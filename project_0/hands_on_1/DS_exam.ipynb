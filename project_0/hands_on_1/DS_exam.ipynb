{
 "cells": [
  {
   "cell_type": "code",
   "execution_count": 64,
   "metadata": {},
   "outputs": [],
   "source": [
    "import math\n",
    "import numpy as np\n",
    "import pandas as pd\n",
    "import matplotlib.pyplot as plt\n",
    "import seaborn as sns"
   ]
  },
  {
   "cell_type": "code",
   "execution_count": 65,
   "metadata": {
    "scrolled": true
   },
   "outputs": [],
   "source": [
    "def benford(digit):\n",
    "    prob_dig = np.round(math.log10(1 + 1 / digit),3)\n",
    "    return prob_dig"
   ]
  },
  {
   "cell_type": "code",
   "execution_count": 66,
   "metadata": {},
   "outputs": [
    {
     "data": {
      "text/plain": [
       "0.058"
      ]
     },
     "execution_count": 66,
     "metadata": {},
     "output_type": "execute_result"
    }
   ],
   "source": [
    "benford(7)"
   ]
  },
  {
   "cell_type": "code",
   "execution_count": 67,
   "metadata": {},
   "outputs": [],
   "source": [
    "def leading_digit(number):\n",
    "    number = str(number)\n",
    "    return int(number[0])"
   ]
  },
  {
   "cell_type": "code",
   "execution_count": 68,
   "metadata": {},
   "outputs": [
    {
     "data": {
      "text/plain": [
       "4"
      ]
     },
     "execution_count": 68,
     "metadata": {},
     "output_type": "execute_result"
    }
   ],
   "source": [
    "leading_digit(435)"
   ]
  },
  {
   "cell_type": "code",
   "execution_count": 69,
   "metadata": {},
   "outputs": [
    {
     "data": {
      "text/plain": [
       "3"
      ]
     },
     "execution_count": 69,
     "metadata": {},
     "output_type": "execute_result"
    }
   ],
   "source": [
    "leading_digit(3342343)"
   ]
  },
  {
   "cell_type": "code",
   "execution_count": 70,
   "metadata": {},
   "outputs": [],
   "source": [
    "italy_covid19 = pd.read_csv(\"Italy_COVID19.csv\", sep=';', decimal=',', index_col='DATE')"
   ]
  },
  {
   "cell_type": "code",
   "execution_count": 71,
   "metadata": {
    "scrolled": true
   },
   "outputs": [
    {
     "data": {
      "text/html": [
       "<div>\n",
       "<style scoped>\n",
       "    .dataframe tbody tr th:only-of-type {\n",
       "        vertical-align: middle;\n",
       "    }\n",
       "\n",
       "    .dataframe tbody tr th {\n",
       "        vertical-align: top;\n",
       "    }\n",
       "\n",
       "    .dataframe thead th {\n",
       "        text-align: right;\n",
       "    }\n",
       "</style>\n",
       "<table border=\"1\" class=\"dataframe\">\n",
       "  <thead>\n",
       "    <tr style=\"text-align: right;\">\n",
       "      <th></th>\n",
       "      <th>ABR</th>\n",
       "      <th>BAS</th>\n",
       "      <th>BZ</th>\n",
       "      <th>CAL</th>\n",
       "      <th>CAM</th>\n",
       "      <th>EMR</th>\n",
       "      <th>FVG</th>\n",
       "      <th>LAZ</th>\n",
       "      <th>LIG</th>\n",
       "      <th>LOM</th>\n",
       "      <th>...</th>\n",
       "      <th>MOL</th>\n",
       "      <th>PIE</th>\n",
       "      <th>PUG</th>\n",
       "      <th>SAR</th>\n",
       "      <th>SIC</th>\n",
       "      <th>TN</th>\n",
       "      <th>TOS</th>\n",
       "      <th>UMB</th>\n",
       "      <th>VDA</th>\n",
       "      <th>VEN</th>\n",
       "    </tr>\n",
       "    <tr>\n",
       "      <th>DATE</th>\n",
       "      <th></th>\n",
       "      <th></th>\n",
       "      <th></th>\n",
       "      <th></th>\n",
       "      <th></th>\n",
       "      <th></th>\n",
       "      <th></th>\n",
       "      <th></th>\n",
       "      <th></th>\n",
       "      <th></th>\n",
       "      <th></th>\n",
       "      <th></th>\n",
       "      <th></th>\n",
       "      <th></th>\n",
       "      <th></th>\n",
       "      <th></th>\n",
       "      <th></th>\n",
       "      <th></th>\n",
       "      <th></th>\n",
       "      <th></th>\n",
       "      <th></th>\n",
       "    </tr>\n",
       "  </thead>\n",
       "  <tbody>\n",
       "    <tr>\n",
       "      <th>31/01/2020</th>\n",
       "      <td>0</td>\n",
       "      <td>0</td>\n",
       "      <td>0</td>\n",
       "      <td>0</td>\n",
       "      <td>0</td>\n",
       "      <td>0</td>\n",
       "      <td>0</td>\n",
       "      <td>2</td>\n",
       "      <td>0</td>\n",
       "      <td>0</td>\n",
       "      <td>...</td>\n",
       "      <td>0</td>\n",
       "      <td>0</td>\n",
       "      <td>0</td>\n",
       "      <td>0</td>\n",
       "      <td>0</td>\n",
       "      <td>0</td>\n",
       "      <td>0</td>\n",
       "      <td>0</td>\n",
       "      <td>0</td>\n",
       "      <td>0</td>\n",
       "    </tr>\n",
       "    <tr>\n",
       "      <th>06/02/2020</th>\n",
       "      <td>0</td>\n",
       "      <td>0</td>\n",
       "      <td>0</td>\n",
       "      <td>0</td>\n",
       "      <td>0</td>\n",
       "      <td>0</td>\n",
       "      <td>0</td>\n",
       "      <td>1</td>\n",
       "      <td>0</td>\n",
       "      <td>0</td>\n",
       "      <td>...</td>\n",
       "      <td>0</td>\n",
       "      <td>0</td>\n",
       "      <td>0</td>\n",
       "      <td>0</td>\n",
       "      <td>0</td>\n",
       "      <td>0</td>\n",
       "      <td>0</td>\n",
       "      <td>0</td>\n",
       "      <td>0</td>\n",
       "      <td>0</td>\n",
       "    </tr>\n",
       "    <tr>\n",
       "      <th>21/02/2020</th>\n",
       "      <td>0</td>\n",
       "      <td>0</td>\n",
       "      <td>0</td>\n",
       "      <td>0</td>\n",
       "      <td>0</td>\n",
       "      <td>0</td>\n",
       "      <td>0</td>\n",
       "      <td>0</td>\n",
       "      <td>0</td>\n",
       "      <td>15</td>\n",
       "      <td>...</td>\n",
       "      <td>0</td>\n",
       "      <td>0</td>\n",
       "      <td>0</td>\n",
       "      <td>0</td>\n",
       "      <td>0</td>\n",
       "      <td>0</td>\n",
       "      <td>0</td>\n",
       "      <td>0</td>\n",
       "      <td>0</td>\n",
       "      <td>2</td>\n",
       "    </tr>\n",
       "    <tr>\n",
       "      <th>22/02/2020</th>\n",
       "      <td>0</td>\n",
       "      <td>0</td>\n",
       "      <td>0</td>\n",
       "      <td>0</td>\n",
       "      <td>0</td>\n",
       "      <td>2</td>\n",
       "      <td>0</td>\n",
       "      <td>0</td>\n",
       "      <td>0</td>\n",
       "      <td>40</td>\n",
       "      <td>...</td>\n",
       "      <td>0</td>\n",
       "      <td>1</td>\n",
       "      <td>0</td>\n",
       "      <td>0</td>\n",
       "      <td>0</td>\n",
       "      <td>0</td>\n",
       "      <td>0</td>\n",
       "      <td>0</td>\n",
       "      <td>0</td>\n",
       "      <td>16</td>\n",
       "    </tr>\n",
       "    <tr>\n",
       "      <th>23/02/2020</th>\n",
       "      <td>0</td>\n",
       "      <td>0</td>\n",
       "      <td>0</td>\n",
       "      <td>0</td>\n",
       "      <td>0</td>\n",
       "      <td>7</td>\n",
       "      <td>0</td>\n",
       "      <td>0</td>\n",
       "      <td>0</td>\n",
       "      <td>57</td>\n",
       "      <td>...</td>\n",
       "      <td>0</td>\n",
       "      <td>2</td>\n",
       "      <td>0</td>\n",
       "      <td>0</td>\n",
       "      <td>0</td>\n",
       "      <td>0</td>\n",
       "      <td>0</td>\n",
       "      <td>0</td>\n",
       "      <td>0</td>\n",
       "      <td>7</td>\n",
       "    </tr>\n",
       "  </tbody>\n",
       "</table>\n",
       "<p>5 rows × 21 columns</p>\n",
       "</div>"
      ],
      "text/plain": [
       "            ABR  BAS  BZ  CAL  CAM  EMR  FVG  LAZ LIG LOM  ...  MOL  PIE PUG  \\\n",
       "DATE                                                       ...                 \n",
       "31/01/2020    0    0   0    0    0    0    0    2   0   0  ...    0    0   0   \n",
       "06/02/2020    0    0   0    0    0    0    0    1   0   0  ...    0    0   0   \n",
       "21/02/2020    0    0   0    0    0    0    0    0   0  15  ...    0    0   0   \n",
       "22/02/2020    0    0   0    0    0    2    0    0   0  40  ...    0    1   0   \n",
       "23/02/2020    0    0   0    0    0    7    0    0   0  57  ...    0    2   0   \n",
       "\n",
       "            SAR  SIC TN  TOS  UMB  VDA  VEN  \n",
       "DATE                                         \n",
       "31/01/2020    0    0  0    0    0    0    0  \n",
       "06/02/2020    0    0  0    0    0    0    0  \n",
       "21/02/2020    0    0  0    0    0    0    2  \n",
       "22/02/2020    0    0  0    0    0    0   16  \n",
       "23/02/2020    0    0  0    0    0    0    7  \n",
       "\n",
       "[5 rows x 21 columns]"
      ]
     },
     "execution_count": 71,
     "metadata": {},
     "output_type": "execute_result"
    }
   ],
   "source": [
    "italy_covid19.head(5)"
   ]
  },
  {
   "cell_type": "code",
   "execution_count": 72,
   "metadata": {},
   "outputs": [
    {
     "data": {
      "text/plain": [
       "ABR     int64\n",
       "BAS     int64\n",
       "BZ      int64\n",
       "CAL     int64\n",
       "CAM     int64\n",
       "EMR     int64\n",
       "FVG     int64\n",
       "LAZ     int64\n",
       "LIG    object\n",
       "LOM    object\n",
       "MAR     int64\n",
       "MOL     int64\n",
       "PIE    object\n",
       "PUG     int64\n",
       "SAR     int64\n",
       "SIC    object\n",
       "TN      int64\n",
       "TOS     int64\n",
       "UMB     int64\n",
       "VDA     int64\n",
       "VEN     int64\n",
       "dtype: object"
      ]
     },
     "execution_count": 72,
     "metadata": {},
     "output_type": "execute_result"
    }
   ],
   "source": [
    "italy_covid19.dtypes"
   ]
  },
  {
   "cell_type": "code",
   "execution_count": 73,
   "metadata": {},
   "outputs": [],
   "source": [
    "def clean_data(data):\n",
    "    for i in range(len(data)):\n",
    "        if data.loc[i][0] == '–':\n",
    "            data.loc[i] = str(0)\n",
    "        if '.' in data.loc[i]:\n",
    "            data.loc[i] = data.loc[i].replace('.', '')\n",
    "    \n",
    "    return data"
   ]
  },
  {
   "cell_type": "code",
   "execution_count": 74,
   "metadata": {},
   "outputs": [],
   "source": [
    "for col in italy_covid19.columns:  \n",
    "    if italy_covid19[col].dtype == 'object':\n",
    "        tmp_series = italy_covid19[col].reset_index(drop=True)\n",
    "        tmp_series = clean_data(tmp_series)\n",
    "        tmp_series = tmp_series.astype('int64')\n",
    "        tmp_series.index = italy_covid19.index\n",
    "        italy_covid19[col] = tmp_series"
   ]
  },
  {
   "cell_type": "code",
   "execution_count": 75,
   "metadata": {
    "scrolled": false
   },
   "outputs": [
    {
     "data": {
      "text/plain": [
       "ABR    int64\n",
       "BAS    int64\n",
       "BZ     int64\n",
       "CAL    int64\n",
       "CAM    int64\n",
       "EMR    int64\n",
       "FVG    int64\n",
       "LAZ    int64\n",
       "LIG    int64\n",
       "LOM    int64\n",
       "MAR    int64\n",
       "MOL    int64\n",
       "PIE    int64\n",
       "PUG    int64\n",
       "SAR    int64\n",
       "SIC    int64\n",
       "TN     int64\n",
       "TOS    int64\n",
       "UMB    int64\n",
       "VDA    int64\n",
       "VEN    int64\n",
       "dtype: object"
      ]
     },
     "execution_count": 75,
     "metadata": {},
     "output_type": "execute_result"
    }
   ],
   "source": [
    "italy_covid19.dtypes"
   ]
  },
  {
   "cell_type": "code",
   "execution_count": 76,
   "metadata": {},
   "outputs": [],
   "source": [
    "italy_covid19[italy_covid19 < 0] = 0"
   ]
  },
  {
   "cell_type": "code",
   "execution_count": 77,
   "metadata": {},
   "outputs": [
    {
     "data": {
      "text/plain": [
       "3251"
      ]
     },
     "execution_count": 77,
     "metadata": {},
     "output_type": "execute_result"
    }
   ],
   "source": [
    "max_cases = italy_covid19.max().max()\n",
    "max_cases"
   ]
  },
  {
   "cell_type": "code",
   "execution_count": 78,
   "metadata": {},
   "outputs": [
    {
     "name": "stdout",
     "output_type": "stream",
     "text": [
      "DATE\n",
      "21/03/2020    1\n",
      "dtype: int64\n",
      "DATE\n",
      "21/03/2020    LOM\n",
      "dtype: object\n"
     ]
    }
   ],
   "source": [
    "for col in italy_covid19.columns:\n",
    "    tmp_series = italy_covid19.loc[italy_covid19[col] == max_cases].T\n",
    "    if tmp_series.size != 0:\n",
    "        print((tmp_series == max_cases).sum())    # to get how many maximum values we have\n",
    "        print(tmp_series.idxmax())"
   ]
  },
  {
   "cell_type": "code",
   "execution_count": 79,
   "metadata": {
    "scrolled": true
   },
   "outputs": [
    {
     "data": {
      "text/plain": [
       "{1: 326, 2: 142, 3: 98, 4: 94, 5: 91, 6: 61, 7: 65, 8: 53, 9: 50}"
      ]
     },
     "execution_count": 79,
     "metadata": {},
     "output_type": "execute_result"
    }
   ],
   "source": [
    "prob_dict = {}\n",
    "for val in range(1, 10):\n",
    "    prob_dict[val] = 0\n",
    "for val in italy_covid19.values.reshape(-1):\n",
    "    if leading_digit(val) != 0:\n",
    "        prob_dict[leading_digit(val)] += 1\n",
    "        \n",
    "prob_dict"
   ]
  },
  {
   "cell_type": "code",
   "execution_count": 80,
   "metadata": {},
   "outputs": [],
   "source": [
    "prob_list = []\n",
    "for i in range(9, 0, -1):\n",
    "    prob_list.append(prob_dict[i] / prob_dict[1])\n",
    "    \n",
    "prob_list.reverse()"
   ]
  },
  {
   "cell_type": "code",
   "execution_count": 81,
   "metadata": {
    "scrolled": true
   },
   "outputs": [
    {
     "data": {
      "text/plain": [
       "[33.3, 14.5, 10.0, 9.6, 9.3, 6.2, 6.6, 5.4, 5.1]"
      ]
     },
     "execution_count": 81,
     "metadata": {},
     "output_type": "execute_result"
    }
   ],
   "source": [
    "prob_list_2 = []\n",
    "cum_prob = 0\n",
    "for i in range(1, 10):\n",
    "    cum_prob += prob_dict[i]\n",
    "for i in range(9, 0, -1):\n",
    "    prob_list_2.append(np.round(100 * prob_dict[i] / cum_prob, 1))\n",
    "    \n",
    "prob_list_2.reverse()\n",
    "prob_list_2"
   ]
  },
  {
   "cell_type": "code",
   "execution_count": 82,
   "metadata": {
    "scrolled": true
   },
   "outputs": [
    {
     "data": {
      "text/plain": [
       "['1 | P(1): 33.3 %',\n",
       " '2 | P(2): 14.5 %',\n",
       " '3 | P(3): 10.0 %',\n",
       " '4 | P(4): 9.6 %',\n",
       " '5 | P(5): 9.3 %',\n",
       " '6 | P(6): 6.2 %',\n",
       " '7 | P(7): 6.6 %',\n",
       " '8 | P(8): 5.4 %',\n",
       " '9 | P(9): 5.1 %']"
      ]
     },
     "execution_count": 82,
     "metadata": {},
     "output_type": "execute_result"
    }
   ],
   "source": [
    "y_labels = []\n",
    "for i in range(9, 0, -1):\n",
    "    y_labels.append(f'{i} | P({i}): {prob_list_2[i - 1]} %')\n",
    "    \n",
    "y_labels.reverse()\n",
    "y_labels"
   ]
  },
  {
   "cell_type": "code",
   "execution_count": 83,
   "metadata": {},
   "outputs": [
    {
     "data": {
      "image/png": "[encoded data removed]",
      "text/plain": [
       "<Figure size 432x288 with 1 Axes>"
      ]
     },
     "metadata": {},
     "output_type": "display_data"
    }
   ],
   "source": [
    "sns.set_theme(style='whitegrid')\n",
    "sns.barplot(x=prob_list, y=y_labels, orient='h', color=sns.color_palette()[0])\n",
    "plt.xticks([0], '')\n",
    "plt.title(\"Benford's distribution\", fontsize=15);\n",
    "plt.subplots_adjust(left=0.2)\n",
    "plt.savefig('Italian_leading_digit_distribution.png')"
   ]
  },
  {
   "cell_type": "code",
   "execution_count": 84,
   "metadata": {},
   "outputs": [
    {
     "data": {
      "text/html": [
       "<div>\n",
       "<style scoped>\n",
       "    .dataframe tbody tr th:only-of-type {\n",
       "        vertical-align: middle;\n",
       "    }\n",
       "\n",
       "    .dataframe tbody tr th {\n",
       "        vertical-align: top;\n",
       "    }\n",
       "\n",
       "    .dataframe thead th {\n",
       "        text-align: right;\n",
       "    }\n",
       "</style>\n",
       "<table border=\"1\" class=\"dataframe\">\n",
       "  <thead>\n",
       "    <tr style=\"text-align: right;\">\n",
       "      <th></th>\n",
       "      <th>Occurences</th>\n",
       "      <th>Percent</th>\n",
       "    </tr>\n",
       "    <tr>\n",
       "      <th>Leading digit</th>\n",
       "      <th></th>\n",
       "      <th></th>\n",
       "    </tr>\n",
       "  </thead>\n",
       "  <tbody>\n",
       "    <tr>\n",
       "      <th>1</th>\n",
       "      <td>326</td>\n",
       "      <td>0.332653</td>\n",
       "    </tr>\n",
       "    <tr>\n",
       "      <th>2</th>\n",
       "      <td>142</td>\n",
       "      <td>0.144898</td>\n",
       "    </tr>\n",
       "    <tr>\n",
       "      <th>3</th>\n",
       "      <td>98</td>\n",
       "      <td>0.100000</td>\n",
       "    </tr>\n",
       "    <tr>\n",
       "      <th>4</th>\n",
       "      <td>94</td>\n",
       "      <td>0.095918</td>\n",
       "    </tr>\n",
       "    <tr>\n",
       "      <th>5</th>\n",
       "      <td>91</td>\n",
       "      <td>0.092857</td>\n",
       "    </tr>\n",
       "    <tr>\n",
       "      <th>6</th>\n",
       "      <td>61</td>\n",
       "      <td>0.062245</td>\n",
       "    </tr>\n",
       "    <tr>\n",
       "      <th>7</th>\n",
       "      <td>65</td>\n",
       "      <td>0.066327</td>\n",
       "    </tr>\n",
       "    <tr>\n",
       "      <th>8</th>\n",
       "      <td>53</td>\n",
       "      <td>0.054082</td>\n",
       "    </tr>\n",
       "    <tr>\n",
       "      <th>9</th>\n",
       "      <td>50</td>\n",
       "      <td>0.051020</td>\n",
       "    </tr>\n",
       "  </tbody>\n",
       "</table>\n",
       "</div>"
      ],
      "text/plain": [
       "               Occurences   Percent\n",
       "Leading digit                      \n",
       "1                     326  0.332653\n",
       "2                     142  0.144898\n",
       "3                      98  0.100000\n",
       "4                      94  0.095918\n",
       "5                      91  0.092857\n",
       "6                      61  0.062245\n",
       "7                      65  0.066327\n",
       "8                      53  0.054082\n",
       "9                      50  0.051020"
      ]
     },
     "execution_count": 84,
     "metadata": {},
     "output_type": "execute_result"
    }
   ],
   "source": [
    "occurences = []\n",
    "percent = []\n",
    "\n",
    "for i in range(1, 10):\n",
    "    occurences.append(prob_dict[i])\n",
    "    percent.append(prob_dict[i] / cum_prob)\n",
    "\n",
    "italian_leading_digit_distribution = pd.DataFrame({'Occurences': occurences, 'Percent': percent}, index=np.arange(1, 10))\n",
    "italian_leading_digit_distribution.index.name = 'Leading digit'\n",
    "italian_leading_digit_distribution"
   ]
  },
  {
   "cell_type": "code",
   "execution_count": 85,
   "metadata": {},
   "outputs": [],
   "source": [
    "italian_leading_digit_distribution.to_csv('Italian_leading_digit_distribution.csv', sep=',')"
   ]
  },
  {
   "cell_type": "code",
   "execution_count": null,
   "metadata": {},
   "outputs": [],
   "source": []
  }
 ],
 "metadata": {
  "kernelspec": {
   "display_name": "Python 3",
   "language": "python",
   "name": "python3"
  },
  "language_info": {
   "codemirror_mode": {
    "name": "ipython",
    "version": 3
   },
   "file_extension": ".py",
   "mimetype": "text/x-python",
   "name": "python",
   "nbconvert_exporter": "python",
   "pygments_lexer": "ipython3",
   "version": "3.8.3"
  }
 },
 "nbformat": 4,
 "nbformat_minor": 4
}
