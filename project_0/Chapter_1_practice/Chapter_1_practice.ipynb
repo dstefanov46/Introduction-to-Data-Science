{
 "cells": [
  {
   "cell_type": "markdown",
   "metadata": {},
   "source": [
    "# *Practice on Python functions*"
   ]
  },
  {
   "cell_type": "markdown",
   "metadata": {},
   "source": [
    "## Practice for *args and *kwargs"
   ]
  },
  {
   "cell_type": "markdown",
   "metadata": {},
   "source": [
    "### Ex. 1. Using  *args*  to pass a variable number of arguments to a function"
   ]
  },
  {
   "cell_type": "code",
   "execution_count": 1,
   "metadata": {},
   "outputs": [
    {
     "name": "stdout",
     "output_type": "stream",
     "text": [
      "Sum: 8\n"
     ]
    }
   ],
   "source": [
    "def adder(*num):\n",
    "    sum = 0\n",
    "    \n",
    "    for n in num:\n",
    "        sum = sum + n\n",
    "        \n",
    "    print(\"Sum: \" + str(sum))\n",
    "    \n",
    "adder(3, 5)"
   ]
  },
  {
   "cell_type": "markdown",
   "metadata": {},
   "source": [
    "## Python **kwargs"
   ]
  },
  {
   "cell_type": "markdown",
   "metadata": {},
   "source": [
    "The arguments are passed as a dictionary and these arguments make a dictionary inside function with name same as the parameter excluding double asterisk **."
   ]
  },
  {
   "cell_type": "markdown",
   "metadata": {},
   "source": [
    "### Ex. 2. Using **kwargs to pass a variable number of keyword arguments to a function"
   ]
  },
  {
   "cell_type": "code",
   "execution_count": 4,
   "metadata": {},
   "outputs": [
    {
     "name": "stdout",
     "output_type": "stream",
     "text": [
      "\n",
      "Type of argument **data:  <class 'dict'>\n",
      "first_name is Dimitar\n",
      "last_name is Stefanov\n",
      "age is 21\n"
     ]
    }
   ],
   "source": [
    "def intro(**data):\n",
    "    # print(\"\\nType of argument **data: \" + type(data))   # this line won't work, because function type() returns a value of \n",
    "                                                          # type \"type\"\n",
    "    print(\"\\nType of argument **data: \", type(data))      # this will however work, because the print() function expects strings\n",
    "                                                          # args, so if it doesn't get one, then it probably does str(arg) on it\n",
    "    \n",
    "    for key, value in data.items():\n",
    "        print(\"{} is {}\".format(key, value))\n",
    "        \n",
    "intro(first_name=\"Dimitar\", last_name=\"Stefanov\", age=\"21\")"
   ]
  },
  {
   "cell_type": "code",
   "execution_count": 3,
   "metadata": {},
   "outputs": [
    {
     "data": {
      "text/plain": [
       "type"
      ]
     },
     "execution_count": 3,
     "metadata": {},
     "output_type": "execute_result"
    }
   ],
   "source": [
    "type(type(5))"
   ]
  },
  {
   "cell_type": "markdown",
   "metadata": {},
   "source": [
    "## Unnamed vs. named arguments"
   ]
  },
  {
   "cell_type": "code",
   "execution_count": 8,
   "metadata": {},
   "outputs": [
    {
     "name": "stdout",
     "output_type": "stream",
     "text": [
      "Unnamed arguments: '(1, 'ab', (3, 4))'.\n",
      "Named arguments: '{'uni': 'University of Ljubljana', 'faculty': 'Faculty of Computer and Information Science'}'.\n"
     ]
    }
   ],
   "source": [
    "def param_writer(*args, **kwargs):\n",
    "    print(f\"Unnamed arguments: '{args}'.\\nNamed arguments: '{kwargs}'.\")\n",
    "    \n",
    "param_writer(1, \"ab\", (3, 4), uni='University of Ljubljana', faculty=\"Faculty of Computer and Information Science\")\n",
    "# interesting thing to notice is that the keys in the kwargs dict are saved as strings (makes sense, strings are immutable)"
   ]
  },
  {
   "cell_type": "markdown",
   "metadata": {},
   "source": [
    "## Practice of global and local variables in Python"
   ]
  },
  {
   "cell_type": "code",
   "execution_count": 7,
   "metadata": {},
   "outputs": [
    {
     "name": "stdout",
     "output_type": "stream",
     "text": [
      "Before the function: num1 is 5 and list1 is [1, 2, 3]\n",
      "Within the function: num1 is 7, list is [1, 2, 3, 15], and global_var is 3\n",
      "After the function: num1 is 5, list1 is [1, 2, 3, 15], and global_var is 3\n"
     ]
    }
   ],
   "source": [
    "def play_with_vars(num1, list1):\n",
    "    \n",
    "    global global_var  # first you create the global variable\n",
    "    global_var = 3     # then you initialise it\n",
    "    \n",
    "    num1 = num1 + 2\n",
    "    list1.append(15)\n",
    "    \n",
    "    print(f\"Within the function: num1 is {num1}, list is {list1}, and global_var is {global_var}\")\n",
    "    \n",
    "num1 = 5\n",
    "list1 = [1, 2, 3]\n",
    "\n",
    "print(f\"Before the function: num1 is {num1} and list1 is {list1}\")\n",
    "play_with_vars(num1, list1)\n",
    "print(f\"After the function: num1 is {num1}, list1 is {list1}, and global_var is {global_var}\")"
   ]
  },
  {
   "cell_type": "markdown",
   "metadata": {},
   "source": [
    "# *Practice on Python classes*"
   ]
  },
  {
   "cell_type": "code",
   "execution_count": 15,
   "metadata": {},
   "outputs": [
    {
     "name": "stdout",
     "output_type": "stream",
     "text": [
      "Num classes: 2\n",
      "Num classes: 2\n",
      "Class: 'Best of Data Science class: old sports', students: '['Slavko Zitnik', 'Erik Strumbelj', 'Tomaz Curk']'\n"
     ]
    }
   ],
   "source": [
    "class Classroom:\n",
    "    # It is probably good practice to first define class-based variables and functions\n",
    "    class_counter = 0\n",
    "    \n",
    "    def num_classes():\n",
    "        return Classroom.class_counter\n",
    "\n",
    "    def __init__(self, name):\n",
    "        Classroom.class_counter += 1\n",
    "        self.name = \"Best of Data Science class: \" + name\n",
    "        self.students = []\n",
    "        \n",
    "    def enrol(self, student):\n",
    "        self.students.append(student)\n",
    "        \n",
    "    def __str__(self):  # the 'print' function takes no parameters other than self\n",
    "        return f\"Class: '{self.name}', students: '{self.students}'\"\n",
    "\n",
    "class1 = Classroom(\"best of millenials\")\n",
    "class2 = Classroom(\"old sports\")\n",
    "\n",
    "print(f\"Num classes: {Classroom.class_counter}\")\n",
    "print(f\"Num classes: {Classroom.num_classes()}\")\n",
    "\n",
    "class2.enrol(\"Slavko Zitnik\")\n",
    "class2.enrol(\"Erik Strumbelj\")\n",
    "class2.enrol(\"Tomaz Curk\")\n",
    "\n",
    "print(class2)"
   ]
  },
  {
   "cell_type": "markdown",
   "metadata": {},
   "source": [
    "## Reading and writing files in Python"
   ]
  },
  {
   "cell_type": "code",
   "execution_count": 10,
   "metadata": {},
   "outputs": [
    {
     "name": "stdout",
     "output_type": "stream",
     "text": [
      "C:\\Users\\User\\Desktop\\Fakultet\\IDS\\Project0\n"
     ]
    }
   ],
   "source": [
    "%cd \"C:\\\\Users\\\\User\\\\Desktop\\\\Fakultet\\\\IDS\\\\Project0\""
   ]
  },
  {
   "cell_type": "code",
   "execution_count": 11,
   "metadata": {},
   "outputs": [
    {
     "data": {
      "text/plain": [
       "'C:\\\\Users\\\\User\\\\Desktop\\\\Fakultet\\\\IDS\\\\Project0'"
      ]
     },
     "execution_count": 11,
     "metadata": {},
     "output_type": "execute_result"
    }
   ],
   "source": [
    "%pwd"
   ]
  },
  {
   "cell_type": "markdown",
   "metadata": {},
   "source": [
    "## Writing content to a file"
   ]
  },
  {
   "cell_type": "code",
   "execution_count": 3,
   "metadata": {},
   "outputs": [],
   "source": [
    "file = open(\"ids.txt\", \"w+\")    # be careful: parameter 'mode' is a string\n",
    "for i in range(10):\n",
    "    file.write(f\"This is line {i}.\\r\\n\") # \\r is escape character for CR; so we first set the cursor to the beginning of the \n",
    "                                         # next line and with \\n, we start writing in the line after which means that we get\n",
    "                                         # one empty line in-between our sentences\n",
    "file.close()    "
   ]
  },
  {
   "cell_type": "markdown",
   "metadata": {},
   "source": [
    "## Reading content from a file"
   ]
  },
  {
   "cell_type": "code",
   "execution_count": 4,
   "metadata": {},
   "outputs": [
    {
     "data": {
      "text/plain": [
       "False"
      ]
     },
     "execution_count": 4,
     "metadata": {},
     "output_type": "execute_result"
    }
   ],
   "source": [
    "file = open(\"ids.txt\", \"r\")\n",
    "\n",
    "contents = file.read()\n",
    "\n",
    "contents == file"
   ]
  },
  {
   "cell_type": "code",
   "execution_count": 15,
   "metadata": {},
   "outputs": [
    {
     "data": {
      "text/plain": [
       "<_io.TextIOWrapper name='ids.txt' mode='r' encoding='cp1251'>"
      ]
     },
     "execution_count": 15,
     "metadata": {},
     "output_type": "execute_result"
    }
   ],
   "source": [
    "file"
   ]
  },
  {
   "cell_type": "code",
   "execution_count": 16,
   "metadata": {},
   "outputs": [
    {
     "data": {
      "text/plain": [
       "'This is line 0.\\n\\nThis is line 1.\\n\\nThis is line 2.\\n\\nThis is line 3.\\n\\nThis is line 4.\\n\\nThis is line 5.\\n\\nThis is line 6.\\n\\nThis is line 7.\\n\\nThis is line 8.\\n\\nThis is line 9.\\n\\n'"
      ]
     },
     "execution_count": 16,
     "metadata": {},
     "output_type": "execute_result"
    }
   ],
   "source": [
    "contents"
   ]
  },
  {
   "cell_type": "code",
   "execution_count": 17,
   "metadata": {},
   "outputs": [
    {
     "data": {
      "text/plain": [
       "_io.TextIOWrapper"
      ]
     },
     "execution_count": 17,
     "metadata": {},
     "output_type": "execute_result"
    }
   ],
   "source": [
    "type(file)"
   ]
  },
  {
   "cell_type": "code",
   "execution_count": 18,
   "metadata": {},
   "outputs": [
    {
     "data": {
      "text/plain": [
       "str"
      ]
     },
     "execution_count": 18,
     "metadata": {},
     "output_type": "execute_result"
    }
   ],
   "source": [
    "type(contents)"
   ]
  },
  {
   "cell_type": "code",
   "execution_count": 21,
   "metadata": {},
   "outputs": [
    {
     "data": {
      "text/plain": [
       "[]"
      ]
     },
     "execution_count": 21,
     "metadata": {},
     "output_type": "execute_result"
    }
   ],
   "source": [
    "# Reading a file into a list of lines\n",
    "lines = file.readlines()\n",
    "lines  # here we get an empty list as we previously called file.read() and when finished reading, we were \n",
    "       # at the end of the text file"
   ]
  },
  {
   "cell_type": "code",
   "execution_count": 5,
   "metadata": {},
   "outputs": [
    {
     "data": {
      "text/plain": [
       "['This is line 0.\\n',\n",
       " '\\n',\n",
       " 'This is line 1.\\n',\n",
       " '\\n',\n",
       " 'This is line 2.\\n',\n",
       " '\\n',\n",
       " 'This is line 3.\\n',\n",
       " '\\n',\n",
       " 'This is line 4.\\n',\n",
       " '\\n',\n",
       " 'This is line 5.\\n',\n",
       " '\\n',\n",
       " 'This is line 6.\\n',\n",
       " '\\n',\n",
       " 'This is line 7.\\n',\n",
       " '\\n',\n",
       " 'This is line 8.\\n',\n",
       " '\\n',\n",
       " 'This is line 9.\\n',\n",
       " '\\n']"
      ]
     },
     "execution_count": 5,
     "metadata": {},
     "output_type": "execute_result"
    }
   ],
   "source": [
    "# Reading a file into a list of lines\n",
    "file.seek(0)    # we moved to the top of the file\n",
    "lines = file.readlines()\n",
    "lines"
   ]
  },
  {
   "cell_type": "code",
   "execution_count": 24,
   "metadata": {},
   "outputs": [
    {
     "name": "stdout",
     "output_type": "stream",
     "text": [
      "This is line 0.\n",
      "\n",
      "\n",
      "\n",
      "This is line 1.\n",
      "\n",
      "\n",
      "\n",
      "This is line 2.\n",
      "\n",
      "\n",
      "\n",
      "This is line 3.\n",
      "\n",
      "\n",
      "\n",
      "This is line 4.\n",
      "\n",
      "\n",
      "\n",
      "This is line 5.\n",
      "\n",
      "\n",
      "\n",
      "This is line 6.\n",
      "\n",
      "\n",
      "\n",
      "This is line 7.\n",
      "\n",
      "\n",
      "\n",
      "This is line 8.\n",
      "\n",
      "\n",
      "\n",
      "This is line 9.\n",
      "\n",
      "\n",
      "\n"
     ]
    }
   ],
   "source": [
    "# Reading line by line\n",
    "file.seek(0)\n",
    "for line in file:\n",
    "    print(line)"
   ]
  },
  {
   "cell_type": "code",
   "execution_count": 8,
   "metadata": {},
   "outputs": [
    {
     "name": "stdout",
     "output_type": "stream",
     "text": [
      "{'name': 'Dimitar', 'age': 21, 'marks': [{'IDS': 8, 'Math1': 8}]}\n"
     ]
    }
   ],
   "source": [
    "import json\n",
    "\n",
    "json_obj = {\"name\": \"Dimitar\", \"age\": 21, \"marks\": [{\"IDS\": 8, \"Math1\": 8}]}\n",
    "\n",
    "# Write json to a file\n",
    "json.dump(json_obj, open(\"json_output.json\", \"w\"))\n",
    "\n",
    "# Read json from a variable to a file\n",
    "dimitar = json.load(open(\"json_output.json\", \"r\"))\n",
    "print(dimitar)"
   ]
  },
  {
   "cell_type": "code",
   "execution_count": null,
   "metadata": {},
   "outputs": [],
   "source": []
  }
 ],
 "metadata": {
  "kernelspec": {
   "display_name": "Python 3",
   "language": "python",
   "name": "python3"
  },
  "language_info": {
   "codemirror_mode": {
    "name": "ipython",
    "version": 3
   },
   "file_extension": ".py",
   "mimetype": "text/x-python",
   "name": "python",
   "nbconvert_exporter": "python",
   "pygments_lexer": "ipython3",
   "version": "3.8.3"
  }
 },
 "nbformat": 4,
 "nbformat_minor": 4
}
