{
 "cells": [
  {
   "cell_type": "markdown",
   "metadata": {},
   "source": [
    "# Lab 1: Introduction to Python"
   ]
  },
  {
   "cell_type": "markdown",
   "metadata": {},
   "source": [
    "## Importing a library"
   ]
  },
  {
   "cell_type": "code",
   "execution_count": 1,
   "metadata": {},
   "outputs": [],
   "source": [
    "import nltk"
   ]
  },
  {
   "cell_type": "markdown",
   "metadata": {},
   "source": [
    "## Operations on lists"
   ]
  },
  {
   "cell_type": "code",
   "execution_count": 2,
   "metadata": {},
   "outputs": [],
   "source": [
    "l = [1, 2, 3, 4, 5]"
   ]
  },
  {
   "cell_type": "code",
   "execution_count": 3,
   "metadata": {},
   "outputs": [
    {
     "data": {
      "text/plain": [
       "[1, 2, 3]"
      ]
     },
     "execution_count": 3,
     "metadata": {},
     "output_type": "execute_result"
    }
   ],
   "source": [
    "l[:3]"
   ]
  },
  {
   "cell_type": "code",
   "execution_count": 4,
   "metadata": {},
   "outputs": [
    {
     "data": {
      "text/plain": [
       "[3, 4, 5]"
      ]
     },
     "execution_count": 4,
     "metadata": {},
     "output_type": "execute_result"
    }
   ],
   "source": [
    "l[2:]"
   ]
  },
  {
   "cell_type": "code",
   "execution_count": 5,
   "metadata": {},
   "outputs": [
    {
     "data": {
      "text/plain": [
       "[3, 4]"
      ]
     },
     "execution_count": 5,
     "metadata": {},
     "output_type": "execute_result"
    }
   ],
   "source": [
    "l[2:4]"
   ]
  },
  {
   "cell_type": "markdown",
   "metadata": {},
   "source": [
    "## Definition of a function and iterators"
   ]
  },
  {
   "cell_type": "code",
   "execution_count": 8,
   "metadata": {},
   "outputs": [
    {
     "data": {
      "text/plain": [
       "[2, 3, 4, 5, 6]"
      ]
     },
     "execution_count": 8,
     "metadata": {},
     "output_type": "execute_result"
    }
   ],
   "source": [
    "def add_one(x):\n",
    "    return x + 1\n",
    "\n",
    "list(map(add_one, l))"
   ]
  },
  {
   "cell_type": "code",
   "execution_count": 9,
   "metadata": {},
   "outputs": [
    {
     "data": {
      "text/plain": [
       "[2, 3, 4]"
      ]
     },
     "execution_count": 9,
     "metadata": {},
     "output_type": "execute_result"
    }
   ],
   "source": [
    "list(range(2, 5))"
   ]
  },
  {
   "cell_type": "markdown",
   "metadata": {},
   "source": [
    "## Example: global and local variables"
   ]
  },
  {
   "cell_type": "code",
   "execution_count": 10,
   "metadata": {},
   "outputs": [],
   "source": [
    "def test(v, l1, l2):\n",
    "    v = v + 1   # you pass a new object\n",
    "    l1 = [4, 5] # you pass a new object\n",
    "    l2.append(5)  # you add smth to an old object, you don't create a new one"
   ]
  },
  {
   "cell_type": "code",
   "execution_count": 11,
   "metadata": {},
   "outputs": [
    {
     "name": "stdout",
     "output_type": "stream",
     "text": [
      "a: 5\n",
      "l1: [1, 2, 3]\n",
      "l2: [1, 2, 3]\n"
     ]
    }
   ],
   "source": [
    "a = 5\n",
    "l1 = [1, 2, 3]\n",
    "l2 = [1, 2, 3]\n",
    "print(f\"a: {a}\\nl1: {l1}\\nl2: {l2}\")"
   ]
  },
  {
   "cell_type": "code",
   "execution_count": 12,
   "metadata": {},
   "outputs": [
    {
     "name": "stdout",
     "output_type": "stream",
     "text": [
      "a: 5\n",
      "l1: [1, 2, 3]\n",
      "l2: [1, 2, 3, 5]\n"
     ]
    }
   ],
   "source": [
    "test(a, l1, l2)\n",
    "print(f\"a: {a}\\nl1: {l1}\\nl2: {l2}\")  "
   ]
  },
  {
   "cell_type": "markdown",
   "metadata": {},
   "source": [
    "## Passing arguments to a function"
   ]
  },
  {
   "cell_type": "code",
   "execution_count": 13,
   "metadata": {},
   "outputs": [],
   "source": [
    "def test(a, p=0, *args, **kwargs):\n",
    "    print(f\"a: {a}, p: {p}, args: {args}, kwargs: {kwargs}\")"
   ]
  },
  {
   "cell_type": "code",
   "execution_count": 14,
   "metadata": {},
   "outputs": [
    {
     "name": "stdout",
     "output_type": "stream",
     "text": [
      "a: 10, p: 0, args: (), kwargs: {}\n"
     ]
    }
   ],
   "source": [
    "test(10)"
   ]
  },
  {
   "cell_type": "code",
   "execution_count": 15,
   "metadata": {},
   "outputs": [
    {
     "name": "stdout",
     "output_type": "stream",
     "text": [
      "a: 10, p: [2, 3], args: (), kwargs: {}\n"
     ]
    }
   ],
   "source": [
    "test(10, [2, 3])"
   ]
  },
  {
   "cell_type": "code",
   "execution_count": 16,
   "metadata": {},
   "outputs": [
    {
     "name": "stdout",
     "output_type": "stream",
     "text": [
      "a: 10, p: [2, 3], args: ('b',), kwargs: {}\n"
     ]
    }
   ],
   "source": [
    "test(10, [2, 3], \"b\")"
   ]
  },
  {
   "cell_type": "code",
   "execution_count": 17,
   "metadata": {},
   "outputs": [
    {
     "name": "stdout",
     "output_type": "stream",
     "text": [
      "a: 10, p: 0, args: ([2, 3], 'b'), kwargs: {}\n"
     ]
    }
   ],
   "source": [
    "test(10, 0, [2, 3], \"b\")"
   ]
  },
  {
   "cell_type": "markdown",
   "metadata": {},
   "source": [
    "## JSON structure"
   ]
  },
  {
   "cell_type": "code",
   "execution_count": 18,
   "metadata": {},
   "outputs": [
    {
     "data": {
      "text/plain": [
       "{'name': 'John', 'age': 4}"
      ]
     },
     "execution_count": 18,
     "metadata": {},
     "output_type": "execute_result"
    }
   ],
   "source": [
    "{\"name\": \"John\", \"age\": 4}"
   ]
  },
  {
   "cell_type": "code",
   "execution_count": 19,
   "metadata": {},
   "outputs": [
    {
     "data": {
      "text/plain": [
       "['John', 'Mary', 'Casper']"
      ]
     },
     "execution_count": 19,
     "metadata": {},
     "output_type": "execute_result"
    }
   ],
   "source": [
    "[\"John\", \"Mary\", \"Casper\"]"
   ]
  },
  {
   "cell_type": "code",
   "execution_count": 20,
   "metadata": {},
   "outputs": [
    {
     "data": {
      "text/plain": [
       "{'name': 'John', 'age': 4, 'friends': ['John', 'Mary', 'Casper']}"
      ]
     },
     "execution_count": 20,
     "metadata": {},
     "output_type": "execute_result"
    }
   ],
   "source": [
    "# Basic structure of a JSON\n",
    "{\"name\": \"John\", \"age\": 4, \"friends\": [\"John\", \"Mary\", \"Casper\"]}"
   ]
  },
  {
   "cell_type": "code",
   "execution_count": null,
   "metadata": {},
   "outputs": [],
   "source": [
    "{\"name\": \"John\", \"age\": 4, \"friends\": [{\"name\": \"John\"}, {\"name\": \"Mary\"}]}"
   ]
  },
  {
   "cell_type": "markdown",
   "metadata": {},
   "source": [
    "# Python basics exercises"
   ]
  },
  {
   "cell_type": "markdown",
   "metadata": {},
   "source": [
    "This is a text"
   ]
  },
  {
   "cell_type": "code",
   "execution_count": 6,
   "metadata": {},
   "outputs": [
    {
     "data": {
      "text/plain": [
       "10"
      ]
     },
     "execution_count": 6,
     "metadata": {},
     "output_type": "execute_result"
    }
   ],
   "source": [
    "5 + 5"
   ]
  },
  {
   "cell_type": "markdown",
   "metadata": {},
   "source": [
    "## Formatting a string"
   ]
  },
  {
   "cell_type": "code",
   "execution_count": 25,
   "metadata": {},
   "outputs": [],
   "source": [
    "name = \"Mark\"\n",
    "age = 42"
   ]
  },
  {
   "cell_type": "code",
   "execution_count": 8,
   "metadata": {},
   "outputs": [
    {
     "name": "stdout",
     "output_type": "stream",
     "text": [
      "Hi, I am Mark and I am 42 years old.\n"
     ]
    }
   ],
   "source": [
    "# %-formatting (old string formatting)\n",
    "print(\"Hi, I am %s and I am %d years old.\" % (name, age))"
   ]
  },
  {
   "cell_type": "code",
   "execution_count": 23,
   "metadata": {},
   "outputs": [
    {
     "name": "stdout",
     "output_type": "stream",
     "text": [
      "Hi, I am Mark and I am 42.999000 years old.\n"
     ]
    }
   ],
   "source": [
    "# Format function with extended features of parameter naming and output formatting\n",
    "# with {:2d} you tell how many fields should be reserved for your literal\n",
    "# with {:f} you say you expect the value to be float; no need for number in front of 'f'\n",
    "print(\"Hi, I am {name} and I am {age:f} years old.\".format(age=age, name=name))"
   ]
  },
  {
   "cell_type": "code",
   "execution_count": 26,
   "metadata": {},
   "outputs": [
    {
     "name": "stdout",
     "output_type": "stream",
     "text": [
      "Hi, I am Mark and I am  42 years old.\n"
     ]
    }
   ],
   "source": [
    "print(f\"Hi, I am {name} and I am {age:3d} years old.\")"
   ]
  },
  {
   "cell_type": "code",
   "execution_count": 27,
   "metadata": {},
   "outputs": [
    {
     "name": "stdout",
     "output_type": "stream",
     "text": [
      "91.00 Fahrenheit is 32.78 Celsius\n"
     ]
    }
   ],
   "source": [
    "# Another example - f-string: The most readable (use this one from now on!)\n",
    "f = 91\n",
    "print(f\"{f:.2f} Fahrenheit is {(f - 32) * 5 / 9:.2f} Celsius\")"
   ]
  },
  {
   "cell_type": "markdown",
   "metadata": {},
   "source": [
    "## Variables and types"
   ]
  },
  {
   "cell_type": "code",
   "execution_count": 28,
   "metadata": {},
   "outputs": [
    {
     "name": "stdout",
     "output_type": "stream",
     "text": [
      "Type of b is <class 'complex'>\n"
     ]
    }
   ],
   "source": [
    "b = 18 + 64j\n",
    "print(f\"Type of b is {type(b)}\")"
   ]
  },
  {
   "cell_type": "code",
   "execution_count": 30,
   "metadata": {},
   "outputs": [
    {
     "name": "stdout",
     "output_type": "stream",
     "text": [
      "Type of e is <class 'NoneType'>\n"
     ]
    }
   ],
   "source": [
    "# There is a separate 'NoneType' class.\n",
    "e = None\n",
    "print(f\"Type of e is {type(e)}\")"
   ]
  },
  {
   "cell_type": "code",
   "execution_count": 31,
   "metadata": {},
   "outputs": [
    {
     "name": "stdout",
     "output_type": "stream",
     "text": [
      "0.8333333333333334\n",
      "0\n"
     ]
    }
   ],
   "source": [
    "a = 5\n",
    "b = 6\n",
    "c = a / b\n",
    "d = a // b\n",
    "print(c)\n",
    "print(d)"
   ]
  },
  {
   "cell_type": "code",
   "execution_count": 32,
   "metadata": {},
   "outputs": [
    {
     "data": {
      "text/plain": [
       "6"
      ]
     },
     "execution_count": 32,
     "metadata": {},
     "output_type": "execute_result"
    }
   ],
   "source": [
    "m = True + 5\n",
    "m"
   ]
  },
  {
   "cell_type": "code",
   "execution_count": 33,
   "metadata": {},
   "outputs": [
    {
     "data": {
      "text/plain": [
       "'55555'"
      ]
     },
     "execution_count": 33,
     "metadata": {},
     "output_type": "execute_result"
    }
   ],
   "source": [
    "m = '5' * 5\n",
    "m"
   ]
  },
  {
   "cell_type": "markdown",
   "metadata": {},
   "source": [
    "## Strings, concatenation and formatting"
   ]
  },
  {
   "cell_type": "code",
   "execution_count": 34,
   "metadata": {},
   "outputs": [
    {
     "data": {
      "text/plain": [
       "'34567'"
      ]
     },
     "execution_count": 34,
     "metadata": {},
     "output_type": "execute_result"
    }
   ],
   "source": [
    "string = '1234567'\n",
    "string[-5:]"
   ]
  },
  {
   "cell_type": "code",
   "execution_count": 35,
   "metadata": {},
   "outputs": [
    {
     "name": "stdout",
     "output_type": "stream",
     "text": [
      "dimitar\n",
      "DIMITAR\n"
     ]
    }
   ],
   "source": [
    "upper_name = 'DIMITAR'\n",
    "lower_name = 'dimitar'\n",
    "print(upper_name.lower())\n",
    "print(lower_name.upper())"
   ]
  },
  {
   "cell_type": "code",
   "execution_count": 36,
   "metadata": {},
   "outputs": [
    {
     "name": "stdout",
     "output_type": "stream",
     "text": [
      "I love data munging\n"
     ]
    }
   ],
   "source": [
    "c = 'I love data science'\n",
    "management = c.replace('science', 'munging')\n",
    "print(management)"
   ]
  },
  {
   "cell_type": "code",
   "execution_count": 37,
   "metadata": {},
   "outputs": [
    {
     "name": "stdout",
     "output_type": "stream",
     "text": [
      "Punctuation symbols: '!\"#$%&'()*+,-./:;<=>?@[\\]^_`{|}~'\n"
     ]
    }
   ],
   "source": [
    "# string package\n",
    "import string\n",
    "print(f\"Punctuation symbols: '{string.punctuation}'\")"
   ]
  },
  {
   "cell_type": "code",
   "execution_count": 38,
   "metadata": {},
   "outputs": [
    {
     "name": "stdout",
     "output_type": "stream",
     "text": [
      "Number: 8.57, Text:         dyslexia\n"
     ]
    }
   ],
   "source": [
    "number = 6/.7\n",
    "text = \"dyslexia\"\n",
    "\n",
    "format0 = f\"Number: {round(number * 100) / 100.0}, Text: {' ' * (15 - len(text))} {text}\"\n",
    "print(format0)"
   ]
  },
  {
   "cell_type": "code",
   "execution_count": 39,
   "metadata": {},
   "outputs": [
    {
     "data": {
      "text/plain": [
       "857"
      ]
     },
     "execution_count": 39,
     "metadata": {},
     "output_type": "execute_result"
    }
   ],
   "source": [
    "round(number * 100)"
   ]
  },
  {
   "cell_type": "code",
   "execution_count": 40,
   "metadata": {},
   "outputs": [
    {
     "data": {
      "text/plain": [
       "8.571428571428571"
      ]
     },
     "execution_count": 40,
     "metadata": {},
     "output_type": "execute_result"
    }
   ],
   "source": [
    "number"
   ]
  },
  {
   "cell_type": "code",
   "execution_count": 41,
   "metadata": {},
   "outputs": [
    {
     "data": {
      "text/plain": [
       "float"
      ]
     },
     "execution_count": 41,
     "metadata": {},
     "output_type": "execute_result"
    }
   ],
   "source": [
    "type(number)"
   ]
  },
  {
   "cell_type": "code",
   "execution_count": 45,
   "metadata": {},
   "outputs": [
    {
     "name": "stdout",
     "output_type": "stream",
     "text": [
      "Number:  8.57, Text:        dyslexia\n"
     ]
    }
   ],
   "source": [
    "format1 = f\"Number: {number:5.2f}, Text: {text:>15}\"   # with :>15 we set the available space for the text to 15 characters\n",
    "print(format1)"
   ]
  },
  {
   "cell_type": "code",
   "execution_count": 46,
   "metadata": {},
   "outputs": [
    {
     "name": "stdout",
     "output_type": "stream",
     "text": [
      "Number: 8.57, Text:                   dyslexia\n",
      "Number:  8.57, Text:        dyslexia\n"
     ]
    }
   ],
   "source": [
    "format0 = f\"Number: {round(number * 100) / 100.0}, Text: {' ' * (15 - len(text) + 10)} {text}\"\n",
    "print(format0)\n",
    "format1 = f\"Number: {number:5.2f}, Text: {text:>15}\"\n",
    "print(format1)"
   ]
  },
  {
   "cell_type": "code",
   "execution_count": null,
   "metadata": {},
   "outputs": [],
   "source": [
    "s = {\"a\", \"b\", \"c\"}   # Set"
   ]
  },
  {
   "cell_type": "markdown",
   "metadata": {},
   "source": [
    "## Generators"
   ]
  },
  {
   "cell_type": "code",
   "execution_count": 50,
   "metadata": {},
   "outputs": [
    {
     "name": "stdout",
     "output_type": "stream",
     "text": [
      "Doubled: <map object at 0x000001BE8CF573D0>\n",
      "Filtered: <filter object at 0x000001BE8CF57310>\n",
      "Sum value: 52\n",
      "<map object at 0x000001BE8CF573D0>\n",
      "<filter object at 0x000001BE8CF57310>\n",
      "52\n"
     ]
    }
   ],
   "source": [
    "from functools import reduce\n",
    "\n",
    "l = [6, 8, 22, 4, 12]\n",
    "doubled = map(lambda x: x * 2, l)\n",
    "print(f\"Doubled: {doubled}\")\n",
    "filtered = filter(lambda x: x > 10, l)\n",
    "print(f\"Filtered: {filtered}\")\n",
    "sum = reduce(lambda x, y: x + y, l)\n",
    "print(f\"Sum value: {sum}\")\n",
    "print(doubled)\n",
    "print(filtered)\n",
    "print(sum)"
   ]
  },
  {
   "cell_type": "code",
   "execution_count": 51,
   "metadata": {},
   "outputs": [
    {
     "name": "stdout",
     "output_type": "stream",
     "text": [
      "Doubled: [12, 16, 44, 8, 24]\n",
      "Filtered: [22, 12]\n"
     ]
    }
   ],
   "source": [
    "print(f\"Doubled: {list(doubled)}\")\n",
    "print(f\"Filtered: {list(filtered)}\")"
   ]
  },
  {
   "cell_type": "code",
   "execution_count": 52,
   "metadata": {},
   "outputs": [
    {
     "name": "stdout",
     "output_type": "stream",
     "text": [
      "Squared values between 5 and 10: [36, 64]\n"
     ]
    }
   ],
   "source": [
    "l = [6, 8, 22, 4, 12]\n",
    "newList = [x**2 for x in l if x >= 5 and x <= 10]\n",
    "print(f\"Squared values between 5 and 10: {newList}\")"
   ]
  },
  {
   "cell_type": "markdown",
   "metadata": {},
   "source": [
    "## Slicing"
   ]
  },
  {
   "cell_type": "code",
   "execution_count": 53,
   "metadata": {},
   "outputs": [
    {
     "name": "stdout",
     "output_type": "stream",
     "text": [
      "[0, 1, 2, 3, 4, 5, 6, 7, 8, 9]\n"
     ]
    }
   ],
   "source": [
    "l = list(range(10))\n",
    "print(l)"
   ]
  },
  {
   "cell_type": "code",
   "execution_count": 54,
   "metadata": {},
   "outputs": [
    {
     "name": "stdout",
     "output_type": "stream",
     "text": [
      "[2, 4, 6]\n"
     ]
    }
   ],
   "source": [
    "slice_indexes = slice(2, 8, 2)\n",
    "print(l[slice_indexes])"
   ]
  },
  {
   "cell_type": "code",
   "execution_count": 55,
   "metadata": {},
   "outputs": [
    {
     "name": "stdout",
     "output_type": "stream",
     "text": [
      "a is greater than 1\n"
     ]
    }
   ],
   "source": [
    "# Inline if statement\n",
    "a = 2\n",
    "print('a is greater than 1' if a > 1 else 'a is lower or equal to 1')"
   ]
  },
  {
   "cell_type": "markdown",
   "metadata": {},
   "source": [
    "## Functions"
   ]
  },
  {
   "cell_type": "code",
   "execution_count": 56,
   "metadata": {},
   "outputs": [
    {
     "name": "stdout",
     "output_type": "stream",
     "text": [
      "Hello Mrs. Mojca!\n",
      "Hello Mrs. Mojca!\n"
     ]
    }
   ],
   "source": [
    "def greet(name, title=\"Mr.\"):\n",
    "    print(f\"Hello {title} {name}!\")\n",
    "    \n",
    "greet(\"Mojca\", \"Mrs.\")\n",
    "greet(title=\"Mrs.\", name=\"Mojca\")  # can reverse the order of parameters; the first parameter is not 'self'"
   ]
  },
  {
   "cell_type": "code",
   "execution_count": 57,
   "metadata": {},
   "outputs": [
    {
     "name": "stdout",
     "output_type": "stream",
     "text": [
      "1275\n"
     ]
    }
   ],
   "source": [
    "# A function can also call itself and return a value.\n",
    "def sumUpTo(value):\n",
    "    if value > 0:\n",
    "        return value + sumUpTo(value - 1)\n",
    "    else:\n",
    "        return 0\n",
    "    \n",
    "print(sumUpTo(50))"
   ]
  },
  {
   "cell_type": "code",
   "execution_count": 58,
   "metadata": {},
   "outputs": [
    {
     "name": "stdout",
     "output_type": "stream",
     "text": [
      "My name is:\n",
      "\t Dimitar.\n"
     ]
    }
   ],
   "source": [
    "print(\"My name is:\\n\\t Dimitar.\")    #\\t is escape character for 'tab'"
   ]
  },
  {
   "cell_type": "code",
   "execution_count": null,
   "metadata": {},
   "outputs": [],
   "source": []
  }
 ],
 "metadata": {
  "kernelspec": {
   "display_name": "Python 3",
   "language": "python",
   "name": "python3"
  },
  "language_info": {
   "codemirror_mode": {
    "name": "ipython",
    "version": 3
   },
   "file_extension": ".py",
   "mimetype": "text/x-python",
   "name": "python",
   "nbconvert_exporter": "python",
   "pygments_lexer": "ipython3",
   "version": "3.8.3"
  }
 },
 "nbformat": 4,
 "nbformat_minor": 4
}
